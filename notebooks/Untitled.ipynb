{
 "cells": [
  {
   "cell_type": "code",
   "execution_count": 17,
   "metadata": {},
   "outputs": [],
   "source": [
    "import sys\n",
    "sys.path.append('../syntheticpcfg')\n"
   ]
  },
  {
   "cell_type": "code",
   "execution_count": 18,
   "metadata": {},
   "outputs": [
    {
     "name": "stdout",
     "output_type": "stream",
     "text": [
      "hello\n"
     ]
    }
   ],
   "source": [
    "print(\"hello\")"
   ]
  },
  {
   "cell_type": "code",
   "execution_count": 19,
   "metadata": {},
   "outputs": [
    {
     "data": {
      "text/plain": [
       "<module 'pcfg' from '../syntheticpcfg/pcfg.py'>"
      ]
     },
     "execution_count": 19,
     "metadata": {},
     "output_type": "execute_result"
    }
   ],
   "source": [
    "import pcfg\n",
    "reload(pcfg)"
   ]
  },
  {
   "cell_type": "code",
   "execution_count": 20,
   "metadata": {},
   "outputs": [],
   "source": [
    "pcfg1 = pcfg.load_pcfg_from_file(\"../data/manual/example1.pcfg\")"
   ]
  },
  {
   "cell_type": "code",
   "execution_count": 21,
   "metadata": {},
   "outputs": [
    {
     "name": "stdout",
     "output_type": "stream",
     "text": [
      "5\n"
     ]
    }
   ],
   "source": [
    "import numpy.random\n",
    "numpy.random.random(10)\n",
    "numpy.random.seed(1)\n",
    "print(numpy.random.choice(10))\n"
   ]
  },
  {
   "cell_type": "code",
   "execution_count": 22,
   "metadata": {},
   "outputs": [],
   "source": [
    "sampler1 = pcfg.Sampler(pcfg1)"
   ]
  },
  {
   "cell_type": "code",
   "execution_count": null,
   "metadata": {},
   "outputs": [],
   "source": []
  },
  {
   "cell_type": "code",
   "execution_count": 103,
   "metadata": {},
   "outputs": [
    {
     "data": {
      "text/plain": [
       "<module 'utility' from '../syntheticpcfg/utility.py'>"
      ]
     },
     "execution_count": 103,
     "metadata": {},
     "output_type": "execute_result"
    }
   ],
   "source": [
    "import utility\n",
    "reload(utility)"
   ]
  },
  {
   "cell_type": "code",
   "execution_count": 90,
   "metadata": {},
   "outputs": [],
   "source": [
    "s1 = utility.collect_yield(t1)"
   ]
  },
  {
   "cell_type": "code",
   "execution_count": 91,
   "metadata": {},
   "outputs": [
    {
     "data": {
      "text/plain": [
       "<module 'inside' from '../syntheticpcfg/inside.py'>"
      ]
     },
     "execution_count": 91,
     "metadata": {},
     "output_type": "execute_result"
    }
   ],
   "source": [
    "import inside\n",
    "reload(inside)\n",
    "\n",
    "inside1 = inside.InsideComputation(pcfg1)\n",
    "print(inside1.bprod_index[\"A\"])\n",
    "\n",
    "inside1.inside_log_probability(s1)"
   ]
  },
  {
   "cell_type": "code",
   "execution_count": 94,
   "metadata": {},
   "outputs": [
    {
     "data": {
      "text/plain": [
       "<module 'cfg' from '../syntheticpcfg/cfg.pyc'>"
      ]
     },
     "execution_count": 94,
     "metadata": {},
     "output_type": "execute_result"
    }
   ],
   "source": [
    "import cfgfactory\n",
    "reload(cfgfactory)\n",
    "import cfg\n",
    "reload(cfg)"
   ]
  },
  {
   "cell_type": "code",
   "execution_count": 95,
   "metadata": {},
   "outputs": [],
   "source": [
    "factory = cfgfactory.CFGFactory()"
   ]
  },
  {
   "cell_type": "code",
   "execution_count": 96,
   "metadata": {},
   "outputs": [
    {
     "data": {
      "text/plain": [
       "<module 'utility' from '../syntheticpcfg/utility.pyc'>"
      ]
     },
     "execution_count": 96,
     "metadata": {},
     "output_type": "execute_result"
    }
   ],
   "source": [
    "import pcfgfactory\n",
    "reload(cfgfactory)\n",
    "reload(pcfgfactory)\n",
    "reload(pcfg)\n",
    "reload(inside)\n",
    "reload(utility)\n",
    "\n",
    "pcfgfactory1 = pcfgfactory.PCFGFactory()\n",
    "pcfgfactory1.lexical_distribution = pcfgfactory.LexicalPitmanYor()\n",
    "\n",
    "upcfg = pcfgfactory1.sample()"
   ]
  },
  {
   "cell_type": "code",
   "execution_count": 330,
   "metadata": {},
   "outputs": [
    {
     "name": "stdout",
     "output_type": "stream",
     "text": [
      "(-2.988883834498227, -2.988883834498227, -2.988883834498227)\n",
      "(-5.263083345746802, -5.263083345746802, -5.263083345746803)\n",
      "(-4.359056905719107, -4.359056905719107, -4.359056905719107)\n",
      "(-3.49096584925436, -3.49096584925436, -3.49096584925436)\n",
      "(-11.885904426147128, -11.885904426147128, -12.48945153766452)\n",
      "(-7.726164192944869, -7.726164192944869, -7.959288799146523)\n",
      "(-27.311365127366464, -30.628146107401687, -31.145362053375216)\n",
      "(-17.347781355817926, -18.982215039445578, -19.24544879646559)\n",
      "(-3.49096584925436, -3.49096584925436, -3.49096584925436)\n",
      "(-4.1425573737484545, -4.1425573737484545, -4.1425573737484545)\n"
     ]
    }
   ],
   "source": [
    "usampler = pcfg.Sampler(upcfg)\n",
    "uinside = inside.InsideComputation(upcfg)\n",
    "for i in range(10):\n",
    "    tree = usampler.sample_tree()\n",
    "    s = utility.collect_yield(tree)\n",
    "    lp = uinside.inside_log_probability(s)\n",
    "    lpd = upcfg.log_probability_derivation(tree)\n",
    "    lp2 = uinside._bracketed_log_probability(tree)[upcfg.start]\n",
    "    print(lp,lp2,lpd)"
   ]
  },
  {
   "cell_type": "code",
   "execution_count": 119,
   "metadata": {},
   "outputs": [
    {
     "data": {
      "text/plain": [
       "<module 'pcfg' from '../syntheticpcfg/pcfg.py'>"
      ]
     },
     "execution_count": 119,
     "metadata": {},
     "output_type": "execute_result"
    }
   ],
   "source": [
    "reload(pcfg)"
   ]
  },
  {
   "cell_type": "code",
   "execution_count": 121,
   "metadata": {},
   "outputs": [],
   "source": [
    "ml = pcfg.estimate_pcfg_from_treebank(\"../data/generated/example1.corpus2\")\n"
   ]
  },
  {
   "cell_type": "code",
   "execution_count": 113,
   "metadata": {},
   "outputs": [],
   "source": [
    "for i in range(1000):\n",
    "    t1 = usampler.sample_tree()\n",
    "    s = utility.tree_to_string(t1)\n",
    "    t = utility.string_to_tree(s)\n",
    "    assert(t == t1)"
   ]
  },
  {
   "cell_type": "code",
   "execution_count": 122,
   "metadata": {},
   "outputs": [],
   "source": [
    "ml.store(\"../data/generated/example1ml.pcfg\")"
   ]
  },
  {
   "cell_type": "code",
   "execution_count": 804,
   "metadata": {},
   "outputs": [
    {
     "data": {
      "text/plain": [
       "{'NT2': 1.0,\n",
       " 'NT1': 1.0,\n",
       " 'S': 1.0000000000000002,\n",
       " 'NT4': 1.0000000000000002,\n",
       " 'NT3': 1.0}"
      ]
     },
     "execution_count": 804,
     "metadata": {},
     "output_type": "execute_result"
    }
   ],
   "source": [
    "upcfg.compute_partition_function_fast()"
   ]
  },
  {
   "cell_type": "code",
   "execution_count": 805,
   "metadata": {},
   "outputs": [
    {
     "data": {
      "text/plain": [
       "defaultdict(float,\n",
       "            {'NT2': 0.9999999999999999,\n",
       "             'NT4': 1.0,\n",
       "             'NT3': 1.0,\n",
       "             'NT1': 1.0,\n",
       "             'S': 0.9999999999999996})"
      ]
     },
     "execution_count": 805,
     "metadata": {},
     "output_type": "execute_result"
    }
   ],
   "source": [
    "upcfg.compute_partition_function_fp()"
   ]
  },
  {
   "cell_type": "code",
   "execution_count": 806,
   "metadata": {},
   "outputs": [
    {
     "data": {
      "text/plain": [
       "[('S', 'NT3', 'NT4', 'NT1', 'NT2')]"
      ]
     },
     "execution_count": 806,
     "metadata": {},
     "output_type": "execute_result"
    }
   ],
   "source": [
    "reload(utility)\n",
    "\n",
    "upcfg.partition_nonterminals()"
   ]
  },
  {
   "cell_type": "code",
   "execution_count": 807,
   "metadata": {},
   "outputs": [
    {
     "data": {
      "text/plain": [
       "{'S': 0.012345679012345148, 'B': 0.11111111111111063, 'A': 0.11111111111111063}"
      ]
     },
     "execution_count": 807,
     "metadata": {},
     "output_type": "execute_result"
    }
   ],
   "source": [
    "ipcfg = pcfg.load_pcfg_from_file(\"../data/manual/noninvertible_jacobian.pcfg\")\n",
    "ipcfg.compute_partition_function_fast()"
   ]
  },
  {
   "cell_type": "code",
   "execution_count": 808,
   "metadata": {},
   "outputs": [
    {
     "data": {
      "text/plain": [
       "[('A',), ('B',), ('S',)]"
      ]
     },
     "execution_count": 808,
     "metadata": {},
     "output_type": "execute_result"
    }
   ],
   "source": [
    "ipcfg.partition_nonterminals()"
   ]
  },
  {
   "cell_type": "code",
   "execution_count": 809,
   "metadata": {},
   "outputs": [],
   "source": [
    "ipcfg.renormalise()\n"
   ]
  },
  {
   "cell_type": "code",
   "execution_count": 810,
   "metadata": {},
   "outputs": [
    {
     "data": {
      "text/plain": [
       "{'S': 0.9999999999999999, 'B': 1.0, 'A': 1.0}"
      ]
     },
     "execution_count": 810,
     "metadata": {},
     "output_type": "execute_result"
    }
   ],
   "source": [
    "ipcfg.compute_partition_function_fast()"
   ]
  },
  {
   "cell_type": "code",
   "execution_count": 781,
   "metadata": {},
   "outputs": [
    {
     "data": {
      "text/plain": [
       "15.820978987845752"
      ]
     },
     "execution_count": 781,
     "metadata": {},
     "output_type": "execute_result"
    }
   ],
   "source": [
    "upcfg.derivational_entropy()"
   ]
  },
  {
   "cell_type": "code",
   "execution_count": 782,
   "metadata": {},
   "outputs": [
    {
     "data": {
      "text/plain": [
       "-7.078014781663406"
      ]
     },
     "execution_count": 782,
     "metadata": {},
     "output_type": "execute_result"
    }
   ],
   "source": [
    "uinside = inside.InsideComputation(upcfg)\n",
    "uinside.inside_bracketed_log_probability(tree)"
   ]
  },
  {
   "cell_type": "code",
   "execution_count": 783,
   "metadata": {},
   "outputs": [
    {
     "name": "stdout",
     "output_type": "stream",
     "text": [
      "3.648\n"
     ]
    }
   ],
   "source": [
    "usampler = pcfg.Sampler(upcfg)\n",
    "total_n = 0\n",
    "n = 1000\n",
    "for i in range(n):\n",
    "    l = len(utility.collect_yield(usampler.sample_tree()))\n",
    "    total_n += l\n",
    "print( float(total_n)/n)"
   ]
  },
  {
   "cell_type": "code",
   "execution_count": 784,
   "metadata": {},
   "outputs": [
    {
     "data": {
      "text/plain": [
       "array([[2.72950879e-04, 9.27555603e-04, 7.22168339e-02, 1.53861924e-01,\n",
       "        4.90674963e-03, 1.17176290e-03, 1.92255038e-02, 1.80979938e-04,\n",
       "        1.74444466e-03, 1.47369390e-02, 4.86417341e-03, 3.90919654e-03,\n",
       "        7.30999653e-02, 2.09398516e-03, 5.51642597e-03, 1.06340637e-02,\n",
       "        1.27011675e-01, 3.29923015e-03, 1.58317185e-03, 1.10466831e-01,\n",
       "        1.52384177e-02, 1.29911730e-02, 6.60091928e-04, 1.23822087e-03,\n",
       "        3.02931923e-03, 1.57836505e-03, 6.38198653e-02, 5.77213049e-04,\n",
       "        1.20988110e-03, 4.03744882e-02, 2.64559838e-03, 7.65747938e-03,\n",
       "        1.04147106e-02, 1.44932591e-02, 1.99032194e-03, 6.65522051e-02,\n",
       "        2.47890380e-02, 4.08290826e-02, 2.43270110e-02, 3.88858830e-03,\n",
       "        2.28583620e-02, 4.29713287e-02, 1.24040668e-02, 4.12938315e-03,\n",
       "        4.90401642e-03, 5.61302488e-03, 7.05028222e-03, 1.02343619e-02,\n",
       "        6.60553181e-03, 5.09556557e-02, 1.42379690e-04, 1.12266777e-02,\n",
       "        5.80285892e-03, 1.88557715e-04, 4.54288232e-03, 3.57755154e-03,\n",
       "        1.09198413e-02, 7.06909815e-01, 7.92064380e-04, 7.25360382e-04,\n",
       "        4.26690814e-02, 3.33851020e-03, 4.40325990e-03, 4.44934009e-03,\n",
       "        2.19859290e-03, 2.57299607e-03, 3.71615865e-03],\n",
       "       [3.51009052e-05, 5.17367637e-04, 1.28406411e-01, 9.23492567e-02,\n",
       "        2.93451979e-03, 8.50718509e-04, 1.07235118e-02, 2.32736369e-05,\n",
       "        1.04327870e-03, 8.81354103e-03, 1.21149566e-02, 2.56202911e-03,\n",
       "        1.46001214e-02, 5.21538550e-03, 3.07692634e-03, 6.35978456e-03,\n",
       "        7.79431336e-02, 8.21722970e-03, 1.14940795e-03, 2.74647456e-01,\n",
       "        3.65927106e-02, 3.23564734e-02, 4.79237241e-04, 2.71071712e-03,\n",
       "        4.17033662e-03, 7.41464943e-04, 3.55971467e-02, 3.21955202e-04,\n",
       "        2.59883915e-03, 1.00558745e-01, 1.58222070e-03, 1.33230589e-03,\n",
       "        2.59394057e-02, 2.43268593e-02, 1.19032752e-03, 1.57102193e-01,\n",
       "        6.17408334e-02, 2.46292024e-02, 6.05900855e-02, 5.91636848e-03,\n",
       "        2.93953696e-03, 2.62940203e-02, 8.74479466e-03, 2.46960972e-03,\n",
       "        2.93288518e-03, 3.35691320e-03, 1.72096082e-02, 5.70847464e-03,\n",
       "        3.91235576e-03, 3.04744264e-02, 1.83097267e-05, 1.01032582e-02,\n",
       "        8.86998545e-03, 2.42481230e-05, 2.30677482e-03, 1.95635840e-03,\n",
       "        2.50916386e-02, 9.12979402e-02, 4.41793975e-04, 9.32798096e-05,\n",
       "        2.41298196e-02, 1.99662201e-03, 2.63340385e-03, 9.51743419e-03,\n",
       "        1.22632089e-03, 1.54279332e-03, 2.07278164e-03],\n",
       "       [2.12903868e-04, 3.68919922e-03, 2.93560333e-01, 2.80790112e-01,\n",
       "        8.17300400e-03, 1.02694243e-02, 7.64662661e-02, 1.41165799e-04,\n",
       "        2.90566144e-03, 2.45468121e-02, 8.63292603e-03, 2.64046955e-02,\n",
       "        5.92084034e-02, 3.71640102e-03, 2.19406732e-02, 1.77127940e-02,\n",
       "        4.96017720e-01, 5.85546761e-03, 1.38750454e-02, 1.95851299e-01,\n",
       "        2.85958383e-02, 2.30567100e-02, 5.78509875e-03, 2.04039248e-03,\n",
       "        1.87425426e-02, 5.24283520e-03, 2.53832974e-01, 2.29576957e-03,\n",
       "        1.97270414e-03, 7.16565675e-02, 4.40668218e-03, 8.56225696e-03,\n",
       "        1.84840093e-02, 2.50438708e-02, 3.31521077e-03, 1.27117163e-01,\n",
       "        4.39955391e-02, 1.60276285e-01, 4.31755344e-02, 6.68414217e-03,\n",
       "        1.78297052e-02, 1.04565606e-01, 1.05225429e-01, 6.87817141e-03,\n",
       "        8.16845140e-03, 9.34942238e-03, 1.23653472e-02, 4.07054842e-02,\n",
       "        1.31909807e-02, 8.48750822e-02, 1.11057297e-04, 4.02750512e-02,\n",
       "        3.24114262e-02, 1.47076526e-04, 1.63764480e-02, 5.61334376e-03,\n",
       "        2.17801819e-02, 5.54306985e-01, 3.15030526e-03, 5.65786899e-04,\n",
       "        1.50768324e-01, 5.56084156e-03, 7.33435849e-03, 9.67924097e-03,\n",
       "        8.74454015e-03, 1.32962057e-02, 1.47804073e-02],\n",
       "       [5.75013096e-05, 3.19798849e-03, 5.73680113e-02, 8.08674069e-02,\n",
       "        2.49628988e-03, 1.49221889e-03, 6.62849101e-02, 3.81262133e-05,\n",
       "        8.87479470e-04, 7.49736068e-03, 2.75148366e-03, 8.54662918e-03,\n",
       "        1.61810960e-02, 1.18449025e-03, 1.90193091e-02, 5.41003877e-03,\n",
       "        4.26204673e-01, 1.86625293e-03, 2.01614075e-03, 6.24138495e-02,\n",
       "        1.06489861e-02, 7.34862786e-03, 8.40615146e-04, 6.44318140e-04,\n",
       "        3.06718756e-03, 4.39410066e-03, 2.20035536e-01, 1.99009168e-03,\n",
       "        6.22081291e-04, 2.28383603e-02, 1.34593794e-03, 4.23473331e-03,\n",
       "        5.89121803e-03, 7.84431309e-03, 1.01256859e-03, 4.96452202e-02,\n",
       "        1.40222454e-02, 1.38001759e-01, 1.37608937e-02, 2.08629146e-03,\n",
       "        4.81546627e-03, 2.54155916e-02, 1.53324672e-02, 2.10080770e-03,\n",
       "        2.49489938e-03, 2.85560468e-03, 3.93545534e-03, 3.52856168e-02,\n",
       "        6.14279622e-03, 2.59234927e-02, 2.99944762e-05, 3.29791570e-02,\n",
       "        5.52184348e-03, 3.97225889e-05, 1.39496029e-02, 1.70372844e-03,\n",
       "        9.31700082e-03, 1.51869339e-01, 2.73084736e-03, 1.52808345e-04,\n",
       "        1.23031616e-01, 1.69845415e-03, 2.24014144e-03, 4.84937021e-03,\n",
       "        7.58021919e-03, 7.47997809e-03, 1.28124207e-02],\n",
       "       [2.60304206e-05, 4.01511083e-04, 4.29275180e-02, 4.55002719e-01,\n",
       "        1.48267578e-02, 4.43106603e-04, 8.32214567e-03, 1.72594568e-05,\n",
       "        5.27119998e-03, 4.45307061e-02, 2.09252289e-03, 1.56807576e-03,\n",
       "        7.70835463e-03, 9.00813256e-04, 2.38789584e-03, 3.21330208e-02,\n",
       "        5.48724364e-02, 1.41929862e-03, 5.98682462e-04, 4.74528113e-02,\n",
       "        6.55731420e-03, 5.58868374e-03, 2.49616276e-04, 4.79761394e-04,\n",
       "        1.20367119e-03, 5.73990223e-04, 2.76257112e-02, 2.49858268e-04,\n",
       "        4.61716474e-04, 1.73687354e-02, 7.99422214e-03, 1.00359627e-03,\n",
       "        4.48031320e-03, 2.23525321e-02, 6.01416899e-03, 2.85629696e-02,\n",
       "        1.06640173e-02, 1.76711166e-02, 1.04652575e-02, 6.83335650e-03,\n",
       "        2.17992621e-03, 1.17560889e-01, 4.56721693e-03, 1.24777844e-02,\n",
       "        1.48184989e-02, 1.69609144e-02, 2.98332816e-03, 4.43014923e-03,\n",
       "        1.75092213e-02, 1.53973042e-01, 1.35782791e-05, 4.85436845e-03,\n",
       "        2.33170327e-03, 1.79821243e-05, 1.78786152e-03, 9.66819848e-03,\n",
       "        4.70053484e-03, 6.77229966e-02, 3.42860984e-04, 6.91752154e-05,\n",
       "        3.96820687e-02, 1.00879984e-02, 1.33053596e-02, 1.91623377e-03,\n",
       "        9.51705120e-04, 1.07876582e-03, 1.60861395e-03]])"
      ]
     },
     "execution_count": 784,
     "metadata": {},
     "output_type": "execute_result"
    }
   ],
   "source": [
    "upcfg.expected_lengths()"
   ]
  },
  {
   "cell_type": "code",
   "execution_count": 785,
   "metadata": {},
   "outputs": [],
   "source": [
    "import inside\n",
    "reload(inside)\n",
    "insidec = inside.InsideComputation(upcfg)\n"
   ]
  },
  {
   "cell_type": "code",
   "execution_count": 786,
   "metadata": {},
   "outputs": [],
   "source": [
    "el = upcfg.expected_lengths()"
   ]
  },
  {
   "cell_type": "code",
   "execution_count": 787,
   "metadata": {},
   "outputs": [
    {
     "data": {
      "text/plain": [
       "array([1.92593063, 1.51942623, 3.69230769, 1.77834478, 1.40690445])"
      ]
     },
     "execution_count": 787,
     "metadata": {},
     "output_type": "execute_result"
    }
   ],
   "source": [
    "np.sum(el,axis = 1)"
   ]
  },
  {
   "cell_type": "code",
   "execution_count": 533,
   "metadata": {},
   "outputs": [
    {
     "data": {
      "text/plain": [
       "('S', ('S', ('NT2', 'kh'), ('NT2', 'ft')), ('NT1', 'jl'))"
      ]
     },
     "execution_count": 533,
     "metadata": {},
     "output_type": "execute_result"
    }
   ],
   "source": [
    "insidec.viterbi_parse(s)"
   ]
  },
  {
   "cell_type": "code",
   "execution_count": 534,
   "metadata": {},
   "outputs": [
    {
     "data": {
      "text/plain": [
       "6"
      ]
     },
     "execution_count": 534,
     "metadata": {},
     "output_type": "execute_result"
    }
   ],
   "source": [
    "insidec.count_parses(s)"
   ]
  },
  {
   "cell_type": "code",
   "execution_count": 831,
   "metadata": {},
   "outputs": [
    {
     "data": {
      "text/plain": [
       "<module 'fa' from '../syntheticpcfg/fa.py'>"
      ]
     },
     "execution_count": 831,
     "metadata": {},
     "output_type": "execute_result"
    }
   ],
   "source": [
    "import fa\n",
    "reload(fa)"
   ]
  },
  {
   "cell_type": "code",
   "execution_count": 823,
   "metadata": {},
   "outputs": [],
   "source": [
    "fa1 = fa.make_prefix('dz',upcfg.terminals)"
   ]
  },
  {
   "cell_type": "code",
   "execution_count": 824,
   "metadata": {},
   "outputs": [],
   "source": [
    "ipcfg = fa1.intersect(upcfg)"
   ]
  },
  {
   "cell_type": "code",
   "execution_count": 825,
   "metadata": {},
   "outputs": [
    {
     "data": {
      "text/plain": [
       "0.06443383343678738"
      ]
     },
     "execution_count": 825,
     "metadata": {},
     "output_type": "execute_result"
    }
   ],
   "source": [
    "ipcfg.compute_partition_function_fast()[ipcfg.start]"
   ]
  },
  {
   "cell_type": "code",
   "execution_count": 832,
   "metadata": {},
   "outputs": [],
   "source": [
    "fa2 = fa.make_infixd('dz',upcfg.terminals)"
   ]
  },
  {
   "cell_type": "code",
   "execution_count": 827,
   "metadata": {},
   "outputs": [],
   "source": [
    "jpcfg = fa2.intersect(upcfg)"
   ]
  },
  {
   "cell_type": "code",
   "execution_count": 828,
   "metadata": {},
   "outputs": [
    {
     "data": {
      "text/plain": [
       "{(1, 'NT4', 1): 0.9999999999999999,\n",
       " (0, 'NT3', 1): 0.013327407346904773,\n",
       " (0, 'NT2', 0): 1.0,\n",
       " (0, 'NT1', 1): 0.0032879958422695615,\n",
       " (1, 'NT1', 1): 1.0000000000000002,\n",
       " (1, 'NT2', 1): 0.9999999999999998,\n",
       " (0, 'NT1', 0): 1.0,\n",
       " (0, 'NT2', 1): 0.0034643144140120478,\n",
       " (0, 'NT4', 1): 0.007698180224291189,\n",
       " (0, 'S', 1): 0.115916268264179,\n",
       " (1, 'S', 1): 0.9999999999999998,\n",
       " (0, 'NT4', 0): 1.0,\n",
       " (0, 'S', 0): 0.9999999999999997,\n",
       " (0, 'NT3', 0): 1.0,\n",
       " (1, 'NT3', 1): 1.0000000000000002}"
      ]
     },
     "execution_count": 828,
     "metadata": {},
     "output_type": "execute_result"
    }
   ],
   "source": [
    "jpcfg.compute_partition_function_fast()"
   ]
  },
  {
   "cell_type": "code",
   "execution_count": 830,
   "metadata": {},
   "outputs": [
    {
     "data": {
      "text/plain": [
       "0.35534923267892304"
      ]
     },
     "execution_count": 830,
     "metadata": {},
     "output_type": "execute_result"
    }
   ],
   "source": [
    "jpcfg.terminal_expectations()['dz']"
   ]
  },
  {
   "cell_type": "code",
   "execution_count": 833,
   "metadata": {},
   "outputs": [],
   "source": [
    "kpcfg = fa2.intersect(upcfg)"
   ]
  },
  {
   "cell_type": "code",
   "execution_count": 834,
   "metadata": {},
   "outputs": [
    {
     "data": {
      "text/plain": [
       "{(1, 'NT4', 1): 0.9999999999999999,\n",
       " (0, 'NT3', 1): 0.012720251177069705,\n",
       " (0, 'NT2', 0): 0.9967293517407156,\n",
       " (0, 'NT1', 1): 0.0031319801739356475,\n",
       " (1, 'NT1', 1): 1.0000000000000002,\n",
       " (1, 'NT2', 1): 0.9999999999999998,\n",
       " (0, 'NT1', 0): 0.9968680198260644,\n",
       " (0, 'NT2', 1): 0.003270648259284358,\n",
       " (0, 'NT4', 1): 0.0073476981118199254,\n",
       " (0, 'S', 1): 0.11138366260352806,\n",
       " (1, 'S', 1): 0.9999999999999998,\n",
       " (0, 'NT4', 0): 0.9926523018881801,\n",
       " (0, 'S', 0): 0.8886163373964715,\n",
       " (0, 'NT3', 0): 0.9872797488229302,\n",
       " (1, 'NT3', 1): 1.0000000000000002}"
      ]
     },
     "execution_count": 834,
     "metadata": {},
     "output_type": "execute_result"
    }
   ],
   "source": [
    "kpcfg.compute_partition_function_fast()"
   ]
  },
  {
   "cell_type": "code",
   "execution_count": 126,
   "metadata": {},
   "outputs": [],
   "source": [
    "# pitmanyor plotting\n",
    "import matplotlib.pyplot as plt\n"
   ]
  },
  {
   "cell_type": "code",
   "execution_count": 127,
   "metadata": {},
   "outputs": [],
   "source": [
    "%matplotlib inline"
   ]
  },
  {
   "cell_type": "code",
   "execution_count": 128,
   "metadata": {},
   "outputs": [
    {
     "data": {
      "text/plain": [
       "[<matplotlib.lines.Line2D at 0x112a0f8d0>]"
      ]
     },
     "execution_count": 128,
     "metadata": {},
     "output_type": "execute_result"
    },
    {
     "data": {
      "image/png": "[encoded data removed]",
      "text/plain": [
       "<Figure size 432x288 with 1 Axes>"
      ]
     },
     "metadata": {},
     "output_type": "display_data"
    }
   ],
   "source": [
    "plt.plot([0,1],[0,1])"
   ]
  },
  {
   "cell_type": "code",
   "execution_count": 132,
   "metadata": {},
   "outputs": [
    {
     "data": {
      "text/plain": [
       "<module 'pcfgfactory' from '../syntheticpcfg/pcfgfactory.py'>"
      ]
     },
     "execution_count": 132,
     "metadata": {},
     "output_type": "execute_result"
    }
   ],
   "source": [
    "reload(pcfgfactory)"
   ]
  },
  {
   "cell_type": "code",
   "execution_count": 133,
   "metadata": {},
   "outputs": [],
   "source": [
    "ld = pcfgfactory.LengthDistribution()"
   ]
  },
  {
   "cell_type": "code",
   "execution_count": 320,
   "metadata": {},
   "outputs": [],
   "source": [
    "r = 10\n",
    "p = 0.5\n",
    "ld.ztnb(r,p, 20)"
   ]
  },
  {
   "cell_type": "code",
   "execution_count": 321,
   "metadata": {},
   "outputs": [
    {
     "data": {
      "text/plain": [
       "[<matplotlib.lines.Line2D at 0x1a24ce4d10>]"
      ]
     },
     "execution_count": 321,
     "metadata": {},
     "output_type": "execute_result"
    },
    {
     "data": {
      "image/png": "[encoded data removed]",
      "text/plain": [
       "<Figure size 432x288 with 1 Axes>"
      ]
     },
     "metadata": {},
     "output_type": "display_data"
    }
   ],
   "source": [
    "plt.plot(range(21),ld.weights,'x')"
   ]
  },
  {
   "cell_type": "code",
   "execution_count": 153,
   "metadata": {},
   "outputs": [],
   "source": [
    "lexd = pcfgfactory.LexicalPitmanYor(d=0.9,alpha=1.0)"
   ]
  },
  {
   "cell_type": "code",
   "execution_count": 308,
   "metadata": {},
   "outputs": [
    {
     "name": "stdout",
     "output_type": "stream",
     "text": [
      "[[   1]\n",
      " [   2]\n",
      " [   3]\n",
      " ...\n",
      " [4998]\n",
      " [4999]\n",
      " [5000]]\n",
      "[[0.        ]\n",
      " [0.69314718]\n",
      " [1.09861229]\n",
      " ...\n",
      " [8.51679311]\n",
      " [8.51699317]\n",
      " [8.51719319]]\n"
     ]
    }
   ],
   "source": [
    "\n",
    "n= 5000\n",
    "data = lexd.sample(n)\n",
    "import numpy as np\n",
    "\n",
    "x = np.arange(1,n+1)\n",
    "x  = x.reshape(-1,1)\n",
    "print(x)\n",
    "x = np.log(x)\n",
    "print(x)"
   ]
  },
  {
   "cell_type": "code",
   "execution_count": 309,
   "metadata": {},
   "outputs": [],
   "source": [
    "lexd = pcfgfactory.LexicalPitmanYor(d=0.85,alpha=1)\n",
    "y = lexd.sample(n)\n",
    "y = np.log(y)"
   ]
  },
  {
   "cell_type": "code",
   "execution_count": 310,
   "metadata": {},
   "outputs": [
    {
     "data": {
      "text/plain": [
       "LinearRegression(copy_X=True, fit_intercept=True, n_jobs=1, normalize=False)"
      ]
     },
     "execution_count": 310,
     "metadata": {},
     "output_type": "execute_result"
    }
   ],
   "source": [
    "from sklearn import  linear_model\n",
    "regr = linear_model.LinearRegression()\n",
    "\n",
    "# Train the model using the training sets\n",
    "regr.fit(x,y)"
   ]
  },
  {
   "cell_type": "code",
   "execution_count": 311,
   "metadata": {},
   "outputs": [
    {
     "name": "stdout",
     "output_type": "stream",
     "text": [
      "(array([-1.19582864]), -1.8499668888444027)\n"
     ]
    }
   ],
   "source": [
    "print(regr.coef_,regr.intercept_)"
   ]
  },
  {
   "cell_type": "code",
   "execution_count": 312,
   "metadata": {},
   "outputs": [],
   "source": [
    "pred = regr.predict(x)"
   ]
  },
  {
   "cell_type": "code",
   "execution_count": 313,
   "metadata": {},
   "outputs": [
    {
     "data": {
      "text/plain": [
       "[<matplotlib.lines.Line2D at 0x1a2341c2d0>]"
      ]
     },
     "execution_count": 313,
     "metadata": {},
     "output_type": "execute_result"
    },
    {
     "data": {
      "image/png": "[encoded data removed]",
      "text/plain": [
       "<Figure size 432x288 with 1 Axes>"
      ]
     },
     "metadata": {},
     "output_type": "display_data"
    }
   ],
   "source": [
    "plt.plot(x,y)\n",
    "plt.plot(x, pred, 'b')\n",
    "# plt.xscale('log')\n",
    "# plt.yscale('log')"
   ]
  },
  {
   "cell_type": "code",
   "execution_count": 306,
   "metadata": {},
   "outputs": [
    {
     "data": {
      "text/plain": [
       "5000"
      ]
     },
     "execution_count": 306,
     "metadata": {},
     "output_type": "execute_result"
    }
   ],
   "source": [
    "len(y)"
   ]
  },
  {
   "cell_type": "code",
   "execution_count": 307,
   "metadata": {},
   "outputs": [
    {
     "name": "stdout",
     "output_type": "stream",
     "text": [
      "[ -2.50247897  -2.63067364  -2.96904203 ... -11.90004966 -11.90023684\n",
      " -11.90040024]\n"
     ]
    }
   ],
   "source": [
    "print(y)"
   ]
  },
  {
   "cell_type": "code",
   "execution_count": 333,
   "metadata": {},
   "outputs": [
    {
     "data": {
      "text/plain": [
       "<module 'pcfg' from '../syntheticpcfg/pcfg.py'>"
      ]
     },
     "execution_count": 333,
     "metadata": {},
     "output_type": "execute_result"
    }
   ],
   "source": [
    "# estimate conditional entropy H(tree|string)\n",
    "# will be a measure of ambiguity.\n",
    "# sample n trees \n",
    "reload(pcfg)\n"
   ]
  },
  {
   "cell_type": "code",
   "execution_count": 334,
   "metadata": {},
   "outputs": [
    {
     "data": {
      "text/plain": [
       "2.789340997259438"
      ]
     },
     "execution_count": 334,
     "metadata": {},
     "output_type": "execute_result"
    }
   ],
   "source": [
    "pcfg.estimate_ambiguity(upcfg)"
   ]
  },
  {
   "cell_type": "code",
   "execution_count": 335,
   "metadata": {},
   "outputs": [
    {
     "data": {
      "text/plain": [
       "2.6100934986825606"
      ]
     },
     "execution_count": 335,
     "metadata": {},
     "output_type": "execute_result"
    }
   ],
   "source": [
    "pcfg.estimate_ambiguity(upcfg)"
   ]
  },
  {
   "cell_type": "code",
   "execution_count": 412,
   "metadata": {},
   "outputs": [
    {
     "data": {
      "text/plain": [
       "<module 'uniformsampler' from '../syntheticpcfg/uniformsampler.py'>"
      ]
     },
     "execution_count": 412,
     "metadata": {},
     "output_type": "execute_result"
    }
   ],
   "source": [
    "import uniformsampler\n",
    "reload(uniformsampler)"
   ]
  },
  {
   "cell_type": "code",
   "execution_count": 413,
   "metadata": {},
   "outputs": [],
   "source": [
    "sigma = pcfg.load_pcfg_from_file(\"../data/manual/sigmastar.pcfg\")"
   ]
  },
  {
   "cell_type": "code",
   "execution_count": 414,
   "metadata": {},
   "outputs": [],
   "source": [
    "us = uniformsampler.UniformSampler(upcfg,10)"
   ]
  },
  {
   "cell_type": "code",
   "execution_count": 415,
   "metadata": {},
   "outputs": [
    {
     "data": {
      "text/plain": [
       "array([0.00000000e+00, 1.80000000e+01, 1.88600000e+03, 5.83878000e+05,\n",
       "       2.36673454e+08, 1.08485212e+11, 5.36219024e+13, 2.78653453e+16,\n",
       "       1.50077005e+19, 8.30228052e+21, 4.68944779e+24])"
      ]
     },
     "execution_count": 415,
     "metadata": {},
     "output_type": "execute_result"
    }
   ],
   "source": [
    "us.index['S']"
   ]
  },
  {
   "cell_type": "code",
   "execution_count": 416,
   "metadata": {},
   "outputs": [
    {
     "data": {
      "text/plain": [
       "('S', ('NT2', 'vh'), ('NT3', ('S', 'fp'), ('NT3', 'qc')))"
      ]
     },
     "execution_count": 416,
     "metadata": {},
     "output_type": "execute_result"
    }
   ],
   "source": [
    "us.sample(3)"
   ]
  },
  {
   "cell_type": "code",
   "execution_count": 417,
   "metadata": {},
   "outputs": [
    {
     "data": {
      "text/plain": [
       "1660126.9700687726"
      ]
     },
     "execution_count": 417,
     "metadata": {},
     "output_type": "execute_result"
    }
   ],
   "source": [
    "us.density(10)"
   ]
  },
  {
   "cell_type": "code",
   "execution_count": 418,
   "metadata": {},
   "outputs": [
    {
     "data": {
      "text/plain": [
       "1.0796549991774635"
      ]
     },
     "execution_count": 418,
     "metadata": {},
     "output_type": "execute_result"
    }
   ],
   "source": [
    "us.string_density(7,100)"
   ]
  },
  {
   "cell_type": "code",
   "execution_count": 419,
   "metadata": {},
   "outputs": [
    {
     "data": {
      "text/plain": [
       "1.0"
      ]
     },
     "execution_count": 419,
     "metadata": {},
     "output_type": "execute_result"
    }
   ],
   "source": [
    "us.string_density_crude(7,100)"
   ]
  },
  {
   "cell_type": "code",
   "execution_count": 420,
   "metadata": {},
   "outputs": [
    {
     "name": "stdout",
     "output_type": "stream",
     "text": [
      "1\n"
     ]
    },
    {
     "ename": "KeyError",
     "evalue": "(0, 'S', 1)",
     "output_type": "error",
     "traceback": [
      "\u001b[0;31m---------------------------------------------------------------------------\u001b[0m",
      "\u001b[0;31mKeyError\u001b[0m                                  Traceback (most recent call last)",
      "\u001b[0;32m<ipython-input-420-200b42d8c570>\u001b[0m in \u001b[0;36m<module>\u001b[0;34m()\u001b[0m\n\u001b[1;32m      9\u001b[0m     \u001b[0mx\u001b[0m\u001b[0;34m.\u001b[0m\u001b[0mappend\u001b[0m\u001b[0;34m(\u001b[0m\u001b[0ml\u001b[0m\u001b[0;34m)\u001b[0m\u001b[0;34m\u001b[0m\u001b[0m\n\u001b[1;32m     10\u001b[0m     \u001b[0my\u001b[0m\u001b[0;34m.\u001b[0m\u001b[0mappend\u001b[0m\u001b[0;34m(\u001b[0m\u001b[0mus\u001b[0m\u001b[0;34m.\u001b[0m\u001b[0mstring_density\u001b[0m\u001b[0;34m(\u001b[0m\u001b[0ml\u001b[0m\u001b[0;34m,\u001b[0m\u001b[0mn_samples\u001b[0m\u001b[0;34m)\u001b[0m\u001b[0;34m)\u001b[0m\u001b[0;34m\u001b[0m\u001b[0m\n\u001b[0;32m---> 11\u001b[0;31m     \u001b[0myc\u001b[0m\u001b[0;34m.\u001b[0m\u001b[0mappend\u001b[0m\u001b[0;34m(\u001b[0m\u001b[0mus\u001b[0m\u001b[0;34m.\u001b[0m\u001b[0mstring_density_crude\u001b[0m\u001b[0;34m(\u001b[0m\u001b[0ml\u001b[0m\u001b[0;34m,\u001b[0m\u001b[0mn_samples\u001b[0m\u001b[0;34m)\u001b[0m\u001b[0;34m)\u001b[0m\u001b[0;34m\u001b[0m\u001b[0m\n\u001b[0m",
      "\u001b[0;32m/Users/alexc/working/syntheticpcfg/syntheticpcfg/uniformsampler.py\u001b[0m in \u001b[0;36mstring_density_crude\u001b[0;34m(self, length, samples)\u001b[0m\n\u001b[1;32m     69\u001b[0m                 \u001b[0;32mfor\u001b[0m \u001b[0mi\u001b[0m \u001b[0;32min\u001b[0m \u001b[0mrange\u001b[0m\u001b[0;34m(\u001b[0m\u001b[0msamples\u001b[0m\u001b[0;34m)\u001b[0m\u001b[0;34m:\u001b[0m\u001b[0;34m\u001b[0m\u001b[0m\n\u001b[1;32m     70\u001b[0m                         \u001b[0ms\u001b[0m \u001b[0;34m=\u001b[0m \u001b[0mtuple\u001b[0m\u001b[0;34m(\u001b[0m\u001b[0;34m[\u001b[0m \u001b[0mnumpy\u001b[0m\u001b[0;34m.\u001b[0m\u001b[0mrandom\u001b[0m\u001b[0;34m.\u001b[0m\u001b[0mchoice\u001b[0m\u001b[0;34m(\u001b[0m\u001b[0mterminals\u001b[0m\u001b[0;34m)\u001b[0m \u001b[0;32mfor\u001b[0m \u001b[0mx\u001b[0m \u001b[0;32min\u001b[0m \u001b[0mrange\u001b[0m\u001b[0;34m(\u001b[0m\u001b[0mlength\u001b[0m\u001b[0;34m)\u001b[0m \u001b[0;34m]\u001b[0m\u001b[0;34m)\u001b[0m\u001b[0;34m\u001b[0m\u001b[0m\n\u001b[0;32m---> 71\u001b[0;31m                         \u001b[0;32mif\u001b[0m \u001b[0mparser\u001b[0m\u001b[0;34m.\u001b[0m\u001b[0mcount_parses\u001b[0m\u001b[0;34m(\u001b[0m\u001b[0ms\u001b[0m\u001b[0;34m)\u001b[0m \u001b[0;34m>\u001b[0m \u001b[0;36m0\u001b[0m\u001b[0;34m:\u001b[0m\u001b[0;34m\u001b[0m\u001b[0m\n\u001b[0m\u001b[1;32m     72\u001b[0m                                 \u001b[0mn\u001b[0m \u001b[0;34m+=\u001b[0m \u001b[0;36m1\u001b[0m\u001b[0;34m\u001b[0m\u001b[0m\n\u001b[1;32m     73\u001b[0m                 \u001b[0;32mreturn\u001b[0m \u001b[0mn\u001b[0m\u001b[0;34m/\u001b[0m\u001b[0mfloat\u001b[0m\u001b[0;34m(\u001b[0m\u001b[0msamples\u001b[0m\u001b[0;34m)\u001b[0m\u001b[0;34m\u001b[0m\u001b[0m\n",
      "\u001b[0;32m/Users/alexc/working/syntheticpcfg/syntheticpcfg/inside.pyc\u001b[0m in \u001b[0;36mcount_parses\u001b[0;34m(self, sentence)\u001b[0m\n\u001b[1;32m    235\u001b[0m         \u001b[0;32mdef\u001b[0m \u001b[0mcount_parses\u001b[0m\u001b[0;34m(\u001b[0m\u001b[0mself\u001b[0m\u001b[0;34m,\u001b[0m\u001b[0msentence\u001b[0m\u001b[0;34m)\u001b[0m\u001b[0;34m:\u001b[0m\u001b[0;34m\u001b[0m\u001b[0m\n\u001b[1;32m    236\u001b[0m                 \u001b[0mtable\u001b[0m\u001b[0;34m,\u001b[0m \u001b[0mtable2\u001b[0m \u001b[0;34m=\u001b[0m \u001b[0mself\u001b[0m\u001b[0;34m.\u001b[0m\u001b[0m_compute_inside_table\u001b[0m\u001b[0;34m(\u001b[0m\u001b[0msentence\u001b[0m\u001b[0;34m,\u001b[0m\u001b[0mmode\u001b[0m\u001b[0;34m=\u001b[0m\u001b[0;36m2\u001b[0m\u001b[0;34m)\u001b[0m\u001b[0;34m\u001b[0m\u001b[0m\n\u001b[0;32m--> 237\u001b[0;31m                 \u001b[0;32mreturn\u001b[0m \u001b[0mtable\u001b[0m\u001b[0;34m[\u001b[0m\u001b[0;34m(\u001b[0m\u001b[0;36m0\u001b[0m\u001b[0;34m,\u001b[0m\u001b[0mself\u001b[0m\u001b[0;34m.\u001b[0m\u001b[0mstart\u001b[0m\u001b[0;34m,\u001b[0m\u001b[0mlen\u001b[0m\u001b[0;34m(\u001b[0m\u001b[0msentence\u001b[0m\u001b[0;34m)\u001b[0m\u001b[0;34m)\u001b[0m\u001b[0;34m]\u001b[0m\u001b[0;34m\u001b[0m\u001b[0m\n\u001b[0m\u001b[1;32m    238\u001b[0m \u001b[0;34m\u001b[0m\u001b[0m\n\u001b[1;32m    239\u001b[0m \u001b[0;34m\u001b[0m\u001b[0m\n",
      "\u001b[0;31mKeyError\u001b[0m: (0, 'S', 1)"
     ]
    }
   ],
   "source": [
    "max_length = 20\n",
    "n_samples = 1000\n",
    "us = uniformsampler.UniformSampler(upcfg,max_length)\n",
    "x = []\n",
    "yc = []\n",
    "y = []\n",
    "for l in range(1,max_length+1):\n",
    "    print(l)\n",
    "    x.append(l)\n",
    "    y.append(us.string_density(l,n_samples))\n",
    "    yc.append(us.string_density_crude(l,n_samples))\n"
   ]
  },
  {
   "cell_type": "code",
   "execution_count": 403,
   "metadata": {},
   "outputs": [
    {
     "data": {
      "image/png": "[encoded data removed]",
      "text/plain": [
       "<Figure size 432x288 with 1 Axes>"
      ]
     },
     "metadata": {},
     "output_type": "display_data"
    }
   ],
   "source": [
    "plt.plot(x,y)\n",
    "plt.plot([1,max_length+1],[1.0,1.0],'r:')\n",
    "plt.xlabel(\"Length\")\n",
    "plt.ylabel('Density')\n",
    "plt.yscale('log')\n",
    "plt.xticks(range(1,max_length+1))\n",
    "plt.show()"
   ]
  },
  {
   "cell_type": "code",
   "execution_count": null,
   "metadata": {},
   "outputs": [],
   "source": []
  }
 ],
 "metadata": {
  "kernelspec": {
   "display_name": "Python 2",
   "language": "python",
   "name": "python2"
  },
  "language_info": {
   "codemirror_mode": {
    "name": "ipython",
    "version": 2
   },
   "file_extension": ".py",
   "mimetype": "text/x-python",
   "name": "python",
   "nbconvert_exporter": "python",
   "pygments_lexer": "ipython2",
   "version": "2.7.15"
  }
 },
 "nbformat": 4,
 "nbformat_minor": 2
}
