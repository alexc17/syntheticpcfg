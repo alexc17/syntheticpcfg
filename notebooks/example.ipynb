{
 "cells": [
  {
   "cell_type": "code",
   "execution_count": null,
   "metadata": {},
   "outputs": [],
   "source": [
    "## Examples for generation of PCFGs and plots of useful quantities."
   ]
  },
  {
   "cell_type": "code",
   "execution_count": null,
   "metadata": {},
   "outputs": [],
   "source": [
    "import sys\n",
    "import math\n",
    "import numpy as np\n",
    "sys.path.append('../syntheticpcfg')\n",
    "import matplotlib.pyplot as plt\n",
    "%matplotlib inline\n",
    "from collections import Counter"
   ]
  },
  {
   "cell_type": "code",
   "execution_count": null,
   "metadata": {},
   "outputs": [],
   "source": [
    "import inside\n",
    "import pcfg\n",
    "import utility\n"
   ]
  },
  {
   "cell_type": "code",
   "execution_count": null,
   "metadata": {},
   "outputs": [],
   "source": [
    "import pcfgfactory\n",
    "\n",
    "pcfgfactory1 = pcfgfactory.PCFGFactory()\n",
    "pcfgfactory1.lexical_distribution = pcfgfactory.LexicalPitmanYor()\n",
    "\n",
    "pcfgfactory1.length_distribution.cds()"
   ]
  },
  {
   "cell_type": "code",
   "execution_count": null,
   "metadata": {},
   "outputs": [],
   "source": [
    "pcfgfactory1.cfgfactory.number_terminals = 10000\n",
    "pcfgfactory1.cfgfactory.number_nonterminals = 20\n",
    "pcfgfactory1.cfgfactory.binary_rules = 50\n",
    "pcfgfactory1.cfgfactory.lexical_rules = 10000\n",
    "\n",
    "\n",
    "upcfg = pcfgfactory1.sample()\n"
   ]
  },
  {
   "cell_type": "code",
   "execution_count": null,
   "metadata": {},
   "outputs": [],
   "source": [
    "print(len(upcfg.nonterminals),len(upcfg.terminals),len(upcfg.productions))\n"
   ]
  },
  {
   "cell_type": "code",
   "execution_count": null,
   "metadata": {},
   "outputs": [],
   "source": [
    "import uniformsampler\n",
    "max_length = 20\n",
    "n_samples = 100\n",
    "us = uniformsampler.UniformSampler(upcfg,max_length)\n",
    "x = []\n",
    "yc = []\n",
    "y = []\n",
    "for l in range(1,max_length+1):\n",
    "    x.append(l)\n",
    "    y.append(us.string_density(l,n_samples))\n",
    "    yc.append(us.string_density_crude(l,n_samples))"
   ]
  },
  {
   "cell_type": "code",
   "execution_count": null,
   "metadata": {},
   "outputs": [],
   "source": [
    "plt.plot(x,y,'rx-',label=\"derivation sampler\")\n",
    "plt.plot(x,yc,'bx-',label=\"string sampler\")\n",
    "plt.plot([1,max_length+1],[1.0,1.0],'r:')\n",
    "plt.xlabel(\"Length\")\n",
    "plt.ylabel('Density')\n",
    "plt.yscale('log')\n",
    "plt.xticks(range(1,max_length+1))\n",
    "plt.legend()\n",
    "plt.show()"
   ]
  },
  {
   "cell_type": "code",
   "execution_count": null,
   "metadata": {},
   "outputs": [],
   "source": [
    "# Length distribution.\n",
    "lpcfg = upcfg.make_unary()\n",
    "linsider = inside.InsideComputation(lpcfg)\n",
    "L = 21\n",
    "a = pcfg.UNARY_SYMBOL\n",
    "x = []\n",
    "y = []\n",
    "for i in range(1,L):\n",
    "    x.append(i)\n",
    "    s = (a,) * i\n",
    "    p = math.exp(linsider.inside_log_probability(s))\n",
    "    y.append(p)"
   ]
  },
  {
   "cell_type": "code",
   "execution_count": null,
   "metadata": {},
   "outputs": [],
   "source": [
    "plt.plot(x,y, label = \"Grammar\")\n",
    "target = pcfgfactory1.length_distribution.weights\n",
    "xt = range(1, len(target))\n",
    "yt = [ target[i]/sum(target) for i in xt]\n",
    "plt.plot(xt,yt,\"r:\",label = \"Target\")\n",
    "plt.xlabel(\"Probability\")\n",
    "plt.ylabel(\"Length\")\n",
    "plt.xticks(x)\n",
    "plt.legend()\n",
    "plt.show()"
   ]
  },
  {
   "cell_type": "code",
   "execution_count": null,
   "metadata": {},
   "outputs": [],
   "source": [
    "# Lexical distribution\n",
    "te = upcfg.terminal_expectations()\n",
    "probs = [ te[a] for a in te]\n",
    "probs.sort(key = lambda x : -x)\n",
    "ranks = np.arange(1, len(probs)+1)\n",
    "plt.plot(ranks, probs, rasterized=True,marker=\".\")\n",
    "plt.yscale('log')\n",
    "plt.xscale('log')\n",
    "plt.xlabel('Rank')\n",
    "plt.ylabel('Frequency')\n",
    "\n",
    "plt.title(\"lexical rank frequency plot\")\n",
    "plt.show()"
   ]
  },
  {
   "cell_type": "code",
   "execution_count": null,
   "metadata": {},
   "outputs": [],
   "source": [
    "# ambiguity: H(tree|string)\n",
    "print(\"H(tree|string)=\",upcfg.estimate_ambiguity(samples=1000))"
   ]
  },
  {
   "cell_type": "code",
   "execution_count": null,
   "metadata": {},
   "outputs": [],
   "source": [
    "# ambiguity ; derivations per string.\n",
    "sampler = pcfg.Sampler(upcfg)\n",
    "counter = inside.InsideComputation(upcfg)\n",
    "derivations = Counter()\n",
    "strings = Counter()\n",
    "max_length = 30\n",
    "n_samples = int(1e5)\n",
    "for i in range(n_samples):\n",
    "    s = utility.collect_yield(sampler.sample_tree())\n",
    "    l = len(s)\n",
    "    if l <= max_length:\n",
    "        n = counter.count_parses(s)\n",
    "        strings[l] += 1\n",
    "        derivations[l] += n\n"
   ]
  },
  {
   "cell_type": "code",
   "execution_count": null,
   "metadata": {},
   "outputs": [],
   "source": [
    "x = [list(strings)][0]\n",
    "x.sort()\n",
    "y = [ derivations[i]/strings[i] for i in x]\n",
    "plt.plot(x,y,'x-')\n",
    "plt.yscale('log')\n",
    "plt.xlabel('Length')\n",
    "plt.ylabel('Mean derivations per string')"
   ]
  }
 ],
 "metadata": {
  "kernelspec": {
   "display_name": "Python 3",
   "language": "python",
   "name": "python3"
  },
  "language_info": {
   "codemirror_mode": {
    "name": "ipython",
    "version": 3
   },
   "file_extension": ".py",
   "mimetype": "text/x-python",
   "name": "python",
   "nbconvert_exporter": "python",
   "pygments_lexer": "ipython3",
   "version": "3.6.6"
  }
 },
 "nbformat": 4,
 "nbformat_minor": 2
}
